{
  "nbformat": 4,
  "nbformat_minor": 0,
  "metadata": {
    "colab": {
      "provenance": [],
      "authorship_tag": "ABX9TyPnnMvA7BolYjuN+TT5hA/L",
      "include_colab_link": true
    },
    "kernelspec": {
      "name": "python3",
      "display_name": "Python 3"
    },
    "language_info": {
      "name": "python"
    }
  },
  "cells": [
    {
      "cell_type": "markdown",
      "metadata": {
        "id": "view-in-github",
        "colab_type": "text"
      },
      "source": [
        "<a href=\"https://colab.research.google.com/github/angelparra1983/Data-Engineering/blob/main/Practica_2_Modelo_de_regresion.ipynb\" target=\"_parent\"><img src=\"https://colab.research.google.com/assets/colab-badge.svg\" alt=\"Open In Colab\"/></a>"
      ]
    },
    {
      "cell_type": "code",
      "execution_count": 19,
      "metadata": {
        "id": "40-FI7-JtDkL"
      },
      "outputs": [],
      "source": [
        "import pandas as pd\n",
        "from sklearn.linear_model import LinearRegression\n",
        "from sklearn.metrics import mean_squared_error, mean_absolute_error"
      ]
    },
    {
      "cell_type": "code",
      "source": [
        "# Cargar los datos\n",
        "df = pd.read_csv('crimen.txt', sep='\\t')"
      ],
      "metadata": {
        "id": "jCGwMCeQtL3j"
      },
      "execution_count": 20,
      "outputs": []
    },
    {
      "cell_type": "code",
      "source": [
        "# Extraer las características y la variable objetivo\n",
        "X = df[['M', 'So', 'Ed', 'Po1', 'Po2', 'LF', 'M.F', 'Pop', 'NW', 'U1', 'U2', 'Wealth', 'Ineq', 'Prob', 'Time']]\n",
        "y = df['Crime']"
      ],
      "metadata": {
        "id": "pVhKzK3VtZNF"
      },
      "execution_count": 21,
      "outputs": []
    },
    {
      "cell_type": "code",
      "source": [
        "# Crear una instancia del modelo de regresión lineal\n",
        "model = LinearRegression()"
      ],
      "metadata": {
        "id": "oScu-wKitf3K"
      },
      "execution_count": 22,
      "outputs": []
    },
    {
      "cell_type": "code",
      "source": [
        "# Ajustar el modelo a los datos\n",
        "model.fit(X, y)"
      ],
      "metadata": {
        "id": "hvAHaNUJtjbs"
      },
      "execution_count": null,
      "outputs": []
    },
    {
      "cell_type": "code",
      "source": [
        "# Obtener los coeficientes estimados\n",
        "coefficients = model.coef_\n",
        "intercepcion = model.intercept_"
      ],
      "metadata": {
        "id": "LoilrU-Ztnzi"
      },
      "execution_count": 11,
      "outputs": []
    },
    {
      "cell_type": "code",
      "source": [
        "# Obtener la tasa de crimen pronosticada para las características especificadas\n",
        "new_data = [[14.0, 0, 10.0, 12.0, 15.5, 0.640, 94.0, 150, 1.1, 0.120, 3.6, 3200, 20.1, 0.04, 39.0]]\n",
        "predicted_crime_rate = model.predict(new_data)"
      ],
      "metadata": {
        "id": "t7cA263utr52"
      },
      "execution_count": null,
      "outputs": []
    },
    {
      "cell_type": "code",
      "source": [
        "# Obtener el MSE y el MAE para evaluar el desempeño del modelo\n",
        "mse = mean_squared_error(y, model.predict(X))\n",
        "mae = mean_absolute_error(y, model.predict(X))"
      ],
      "metadata": {
        "id": "6efNvnVnt1YD"
      },
      "execution_count": 9,
      "outputs": []
    },
    {
      "cell_type": "code",
      "source": [
        "# Mostrar los resultados\n",
        "print(\"Regresores usados: \", X.columns.tolist())\n",
        "print(\"Coeficientes estimados: \", coefficients)\n",
        "print(\"Tasa de crimen pronosticada: \", predicted_crime_rate)\n",
        "print(\"MSE: \", mse)\n",
        "print(\"MAE: \", mae)"
      ],
      "metadata": {
        "colab": {
          "base_uri": "https://localhost:8080/"
        },
        "id": "XFNH6kd2uN-M",
        "outputId": "0f846860-571b-42ea-c6e7-c4b2c1db1188"
      },
      "execution_count": 10,
      "outputs": [
        {
          "output_type": "stream",
          "name": "stdout",
          "text": [
            "Regresores usados:  ['M', 'So', 'Ed', 'Po1', 'Po2', 'LF', 'M.F', 'Pop', 'NW', 'U1', 'U2', 'Wealth', 'Ineq', 'Prob', 'Time']\n",
            "Coeficientes estimados:  [ 8.78301732e+01 -3.80345030e+00  1.88324315e+02  1.92804338e+02\n",
            " -1.09421925e+02 -6.63826145e+02  1.74068555e+01 -7.33008150e-01\n",
            "  4.20446100e+00 -5.82710272e+03  1.67799672e+02  9.61662430e-02\n",
            "  7.06720995e+01 -4.85526582e+03 -3.47901784e+00]\n",
            "Tasa de crimen pronosticada:  [155.43489689]\n",
            "MSE:  28828.633430503334\n",
            "MAE:  129.91521266409967\n"
          ]
        }
      ]
    }
  ]
}